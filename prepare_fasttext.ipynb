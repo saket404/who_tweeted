{
 "cells": [
  {
   "cell_type": "code",
   "execution_count": null,
   "metadata": {},
   "outputs": [],
   "source": [
    "import pandas as pd \n",
    "import numpy as np \n",
    "import scipy as sp \n",
    "from sklearn import metrics\n",
    "from sklearn.model_selection import train_test_split\n",
    "from sklearn import preprocessing\n",
    "from nltk.corpus import stopwords\n",
    "from nltk import word_tokenize\n",
    "from tw_preprocessor import TwitterPreprocessor\n",
    "import matplotlib.pyplot as plt "
   ]
  },
  {
   "cell_type": "code",
   "execution_count": null,
   "metadata": {},
   "outputs": [],
   "source": [
    "file = \"data/train_tweets.txt\"\n",
    "temp = []\n",
    "with open(file, 'r') as data:\n",
    "    for line in data:\n",
    "        row = []\n",
    "        line = line.replace('\\t',\" \")\n",
    "        elem = line.strip().split(\" \")\n",
    "        row.append(elem[0])\n",
    "        row.append(\" \".join(elem[1:]))\n",
    "        temp.append(row) "
   ]
  },
  {
   "cell_type": "code",
   "execution_count": null,
   "metadata": {},
   "outputs": [],
   "source": [
    "tw = pd.DataFrame(temp,columns = [\"User\",\"Tweet\"])"
   ]
  },
  {
   "cell_type": "code",
   "execution_count": null,
   "metadata": {},
   "outputs": [],
   "source": [
    "length = tw['Tweet'].str.len()\n",
    "\n",
    "plt.hist(length, bins=20, label=\"tweets\")\n",
    "plt.legend()\n",
    "plt.show()"
   ]
  },
  {
   "cell_type": "code",
   "execution_count": null,
   "metadata": {},
   "outputs": [],
   "source": [
    "from nltk.tokenize import TweetTokenizer\n",
    "from nltk.stem.porter import PorterStemmer\n",
    "from nltk import word_tokenize\n",
    "STOPWORDS = set(stopwords.words('english'))\n",
    "from nltk.stem import WordNetLemmatizer \n",
    "  \n",
    "lemmatizer = WordNetLemmatizer()\n",
    "def lemmatize(word):\n",
    "    lemma = lemmatizer.lemmatize(word,'v')\n",
    "    if lemma == word:\n",
    "        lemma = lemmatizer.lemmatize(word,'n')\n",
    "    return lemma\n",
    "\n",
    "def text_process(text): \n",
    "    tk = TweetTokenizer(strip_handles=True, reduce_len=True, preserve_case = False) \n",
    "    text = tk.tokenize(text)\n",
    "    \n",
    "    text = [word for word in text if word not in STOPWORDS]\n",
    "    text = ' '.join(lemmatize(word) for word in text)\n",
    "    \n",
    "    return text"
   ]
  },
  {
   "cell_type": "code",
   "execution_count": null,
   "metadata": {},
   "outputs": [],
   "source": [
    "def preprocess(tw):\n",
    "    tw['Tweet'].replace(\"(@[A-Za-z0-9]+)\",\"\",regex=True,inplace=True)\n",
    "    tw['Tweet'].replace(\"(RT|rt|FAV|fav|VIA|via)\",\"\",regex=True,inplace=True)\n",
    "    tw['Tweet'] = tw['Tweet'].str.lower()\n",
    "    tw[\"Tweet\"].replace(\"(\\\\r|)\\\\n$\", '', regex=True,inplace=True)\n",
    "    tw[\"Tweet\"].replace(r'http.?://[^\\s]+[\\s]?','', regex=True,inplace=True)\n",
    "    tw['Tweet'] = tw['Tweet'].apply(lambda x: ' '.join([w for w in x.split() if len(w)>3]))\n",
    "    return tw"
   ]
  },
  {
   "cell_type": "code",
   "execution_count": null,
   "metadata": {},
   "outputs": [],
   "source": [
    "tw.head(10)"
   ]
  },
  {
   "cell_type": "code",
   "execution_count": null,
   "metadata": {},
   "outputs": [],
   "source": [
    "tw = preprocess(tw)"
   ]
  },
  {
   "cell_type": "code",
   "execution_count": null,
   "metadata": {},
   "outputs": [],
   "source": [
    "tw['Tweet'] = tw[\"Tweet\"].apply(text_process)"
   ]
  },
  {
   "cell_type": "code",
   "execution_count": null,
   "metadata": {},
   "outputs": [],
   "source": [
    "tw.sample(20)"
   ]
  },
  {
   "cell_type": "code",
   "execution_count": null,
   "metadata": {},
   "outputs": [],
   "source": [
    "min_no_tweets = 1\n",
    "threshold = 150"
   ]
  },
  {
   "cell_type": "code",
   "execution_count": null,
   "metadata": {},
   "outputs": [],
   "source": [
    "def sample_data(tw):\n",
    "    cnt_user = tw['User'].value_counts()\n",
    "    print(cnt_user.describe())\n",
    "    df = pd.DataFrame(cnt_user)\n",
    "    top_user = df[df['User'] >= min_no_tweets].index.tolist()\n",
    "    top_k = tw[tw.User.isin(top_user)]\n",
    "    data = top_k['User'].value_counts()\n",
    "    print(data.describe())\n",
    "    Tweet = top_k.groupby('User',group_keys=False).apply(lambda x: x.sample(n = min(threshold,len(x))))\n",
    "    Tweet.sample(10)\n",
    "    tw = Tweet\n",
    "    tw['num_of_words'] = tw[\"Tweet\"].str.split().apply(len)\n",
    "    tw.drop(tw[tw.num_of_words<3].index, inplace=True)\n",
    "    return tw"
   ]
  },
  {
   "cell_type": "code",
   "execution_count": null,
   "metadata": {},
   "outputs": [],
   "source": [
    "tw = sample_data(tw)"
   ]
  },
  {
   "cell_type": "code",
   "execution_count": null,
   "metadata": {},
   "outputs": [],
   "source": [
    "vis = tw[\"User\"].value_counts()\n",
    "print(vis.describe())\n",
    "print(tw.shape)"
   ]
  },
  {
   "cell_type": "code",
   "execution_count": null,
   "metadata": {},
   "outputs": [],
   "source": [
    "length = tw['Tweet'].str.len()\n",
    "\n",
    "plt.hist(length, bins=20, label=\"tweets\")\n",
    "plt.legend()\n",
    "plt.show()"
   ]
  },
  {
   "cell_type": "code",
   "execution_count": null,
   "metadata": {},
   "outputs": [],
   "source": [
    "tw.sample(20)"
   ]
  },
  {
   "cell_type": "code",
   "execution_count": null,
   "metadata": {},
   "outputs": [],
   "source": [
    "def rename_user(user):\n",
    "    user = f'__label__{user}'\n",
    "    return user"
   ]
  },
  {
   "cell_type": "code",
   "execution_count": null,
   "metadata": {},
   "outputs": [],
   "source": [
    "tw['User'] = tw['User'].apply(rename_user)"
   ]
  },
  {
   "cell_type": "code",
   "execution_count": null,
   "metadata": {},
   "outputs": [],
   "source": [
    "tw.sample(15)"
   ]
  },
  {
   "cell_type": "code",
   "execution_count": null,
   "metadata": {},
   "outputs": [],
   "source": [
    "X_train, X_test, y_train, y_test = train_test_split(tw.Tweet,tw.User, random_state=0)"
   ]
  },
  {
   "cell_type": "code",
   "execution_count": null,
   "metadata": {},
   "outputs": [],
   "source": [
    "def write_file(X,y,filename):\n",
    "    with open(filename, 'w') as writeFile:\n",
    "        for user,tweet in zip(y,X):\n",
    "            writeFile.write(f'{user} {tweet}\\n')\n",
    "    "
   ]
  },
  {
   "cell_type": "code",
   "execution_count": null,
   "metadata": {},
   "outputs": [],
   "source": [
    "write_file(X_train,y_train,'trainData.train')\n",
    "write_file(X_test,y_test,'testData.valid')"
   ]
  },
  {
   "cell_type": "code",
   "execution_count": null,
   "metadata": {},
   "outputs": [],
   "source": [
    "import fasttext"
   ]
  },
  {
   "cell_type": "code",
   "execution_count": null,
   "metadata": {
    "scrolled": true
   },
   "outputs": [],
   "source": [
    "%%time\n",
    "model = fasttext.train_supervised(\n",
    "    input=\"trainData.train\", \n",
    "    lr=0.125, \n",
    "    epoch=150,  \n",
    "    wordNgrams=3,  \n",
    "    dim=300, \n",
    "    ws = 25,\n",
    "    bucket = 5000000,\n",
    "    minCount = 1,\n",
    "    loss='ova')"
   ]
  },
  {
   "cell_type": "code",
   "execution_count": null,
   "metadata": {},
   "outputs": [],
   "source": [
    "%%time\n",
    "preds = []\n",
    "for tweet in X_test.tolist():\n",
    "    preds.append(model.predict(tweet,k=1)[0][0])\n",
    "    \n",
    "preds = pd.Series(preds)"
   ]
  },
  {
   "cell_type": "code",
   "execution_count": null,
   "metadata": {},
   "outputs": [],
   "source": [
    "print('Accuracy: ', metrics.accuracy_score(y_test, preds))"
   ]
  },
  {
   "cell_type": "code",
   "execution_count": null,
   "metadata": {},
   "outputs": [],
   "source": [
    "def prepare_test_data():\n",
    "    file1 = \"data/test_tweets_unlabeled.txt\"\n",
    "    with open(file1, 'r') as data:\n",
    "        temp = [line for line in data]    \n",
    "    unlabel = pd.DataFrame(temp,columns = [\"Tweet\"])\n",
    "    unlabel = clean_df(unlabel)\n",
    "    unlabel = unlabel['Tweet'].tolist()\n",
    "    return unlabel\n",
    "    \n",
    "def submission_file(data):\n",
    "    import csv\n",
    "    with open('predicted.csv', 'w') as writeFile:\n",
    "        writer = csv.writer(writeFile)\n",
    "        writer.writerow(['Id','Predicted'])\n",
    "        for index,tweet in enumerate(data):\n",
    "            pred = model.predict(tweet,k =1)[0][0]\n",
    "            pred = re.findall(\"(\\d+)\", pred)[0]\n",
    "            writer.writerow([index+1,pred])"
   ]
  },
  {
   "cell_type": "code",
   "execution_count": null,
   "metadata": {},
   "outputs": [],
   "source": [
    "%%time\n",
    "data = prepare_test_data()\n",
    "submission_file(data)"
   ]
  },
  {
   "cell_type": "code",
   "execution_count": null,
   "metadata": {},
   "outputs": [],
   "source": []
  }
 ],
 "metadata": {
  "kernelspec": {
   "display_name": "Python 3",
   "language": "python",
   "name": "python3"
  },
  "language_info": {
   "codemirror_mode": {
    "name": "ipython",
    "version": 3
   },
   "file_extension": ".py",
   "mimetype": "text/x-python",
   "name": "python",
   "nbconvert_exporter": "python",
   "pygments_lexer": "ipython3",
   "version": "3.7.3"
  }
 },
 "nbformat": 4,
 "nbformat_minor": 2
}
