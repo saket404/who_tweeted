{
 "cells": [
  {
   "cell_type": "code",
   "execution_count": 5,
   "metadata": {},
   "outputs": [],
   "source": [
    "import pandas as pd \n",
    "import numpy as np \n",
    "import scipy as sp \n",
    "from sklearn import metrics\n",
    "from sklearn.model_selection import train_test_split\n",
    "from sklearn.feature_extraction.text import CountVectorizer, TfidfVectorizer \n",
    "from sklearn.naive_bayes import MultinomialNB \n",
    "from sklearn.linear_model import LogisticRegression\n",
    "from sklearn.svm import LinearSVC\n",
    "import seaborn as sns\n",
    "import matplotlib.pyplot as plt\n",
    "from sklearn.externals import joblib"
   ]
  },
  {
   "cell_type": "markdown",
   "metadata": {},
   "source": [
    "# Text Processing\n",
    "\n",
    "    Read each sentence from training file and remove the tabs and extract id and tweet seperately. "
   ]
  },
  {
   "cell_type": "code",
   "execution_count": 7,
   "metadata": {},
   "outputs": [],
   "source": [
    "file = \"data/train_tweets.txt\"\n",
    "temp = []\n",
    "with open(file, 'r',encoding=\"Utf-8\") as data:\n",
    "    for line in data:\n",
    "        row = []\n",
    "        line = line.replace('\\t',\" \")\n",
    "        elem = line.strip().split(\" \")\n",
    "        row.append(elem[0])\n",
    "        row.append(\" \".join(elem[1:]))\n",
    "        temp.append(row) "
   ]
  },
  {
   "cell_type": "code",
   "execution_count": 8,
   "metadata": {},
   "outputs": [],
   "source": [
    "tw = pd.DataFrame(temp,columns = [\"User\",\"Tweet\"])\n",
    "tw['Tweet'] = tw['Tweet'].str.lower()\n",
    "temp = []\n",
    "elem = []"
   ]
  },
  {
   "cell_type": "code",
   "execution_count": 9,
   "metadata": {},
   "outputs": [
    {
     "data": {
      "text/html": [
       "<div>\n",
       "<style scoped>\n",
       "    .dataframe tbody tr th:only-of-type {\n",
       "        vertical-align: middle;\n",
       "    }\n",
       "\n",
       "    .dataframe tbody tr th {\n",
       "        vertical-align: top;\n",
       "    }\n",
       "\n",
       "    .dataframe thead th {\n",
       "        text-align: right;\n",
       "    }\n",
       "</style>\n",
       "<table border=\"1\" class=\"dataframe\">\n",
       "  <thead>\n",
       "    <tr style=\"text-align: right;\">\n",
       "      <th></th>\n",
       "      <th>User</th>\n",
       "      <th>Tweet</th>\n",
       "    </tr>\n",
       "  </thead>\n",
       "  <tbody>\n",
       "    <tr>\n",
       "      <th>0</th>\n",
       "      <td>8746</td>\n",
       "      <td>@handle let's try and catch up live next week!</td>\n",
       "    </tr>\n",
       "    <tr>\n",
       "      <th>1</th>\n",
       "      <td>8746</td>\n",
       "      <td>going to watch grey's on the big screen - thur...</td>\n",
       "    </tr>\n",
       "    <tr>\n",
       "      <th>2</th>\n",
       "      <td>8746</td>\n",
       "      <td>@handle my pleasure patrick....hope you are well!</td>\n",
       "    </tr>\n",
       "    <tr>\n",
       "      <th>3</th>\n",
       "      <td>8746</td>\n",
       "      <td>@handle hi there! been traveling a lot and lot...</td>\n",
       "    </tr>\n",
       "    <tr>\n",
       "      <th>4</th>\n",
       "      <td>8746</td>\n",
       "      <td>rt @handle looking to drink clean &amp; go green? ...</td>\n",
       "    </tr>\n",
       "  </tbody>\n",
       "</table>\n",
       "</div>"
      ],
      "text/plain": [
       "   User                                              Tweet\n",
       "0  8746     @handle let's try and catch up live next week!\n",
       "1  8746  going to watch grey's on the big screen - thur...\n",
       "2  8746  @handle my pleasure patrick....hope you are well!\n",
       "3  8746  @handle hi there! been traveling a lot and lot...\n",
       "4  8746  rt @handle looking to drink clean & go green? ..."
      ]
     },
     "execution_count": 9,
     "metadata": {},
     "output_type": "execute_result"
    }
   ],
   "source": [
    "tw.head()"
   ]
  },
  {
   "cell_type": "code",
   "execution_count": 10,
   "metadata": {},
   "outputs": [
    {
     "data": {
      "text/html": [
       "<div>\n",
       "<style scoped>\n",
       "    .dataframe tbody tr th:only-of-type {\n",
       "        vertical-align: middle;\n",
       "    }\n",
       "\n",
       "    .dataframe tbody tr th {\n",
       "        vertical-align: top;\n",
       "    }\n",
       "\n",
       "    .dataframe thead th {\n",
       "        text-align: right;\n",
       "    }\n",
       "</style>\n",
       "<table border=\"1\" class=\"dataframe\">\n",
       "  <thead>\n",
       "    <tr style=\"text-align: right;\">\n",
       "      <th></th>\n",
       "      <th>User</th>\n",
       "      <th>Tweet</th>\n",
       "    </tr>\n",
       "  </thead>\n",
       "  <tbody>\n",
       "    <tr>\n",
       "      <th>328927</th>\n",
       "      <td>4357</td>\n",
       "      <td>steelbox demonstrates open video framework wit...</td>\n",
       "    </tr>\n",
       "    <tr>\n",
       "      <th>328928</th>\n",
       "      <td>4357</td>\n",
       "      <td>small businesses rely on sage to help them rid...</td>\n",
       "    </tr>\n",
       "    <tr>\n",
       "      <th>328929</th>\n",
       "      <td>4357</td>\n",
       "      <td>timesight systems™ announces next-generation p...</td>\n",
       "    </tr>\n",
       "    <tr>\n",
       "      <th>328930</th>\n",
       "      <td>4357</td>\n",
       "      <td>diebold makes its leading monitoring solutions...</td>\n",
       "    </tr>\n",
       "    <tr>\n",
       "      <th>328931</th>\n",
       "      <td>4357</td>\n",
       "      <td>gvi security solutions to introduce autoip™ vm...</td>\n",
       "    </tr>\n",
       "  </tbody>\n",
       "</table>\n",
       "</div>"
      ],
      "text/plain": [
       "        User                                              Tweet\n",
       "328927  4357  steelbox demonstrates open video framework wit...\n",
       "328928  4357  small businesses rely on sage to help them rid...\n",
       "328929  4357  timesight systems™ announces next-generation p...\n",
       "328930  4357  diebold makes its leading monitoring solutions...\n",
       "328931  4357  gvi security solutions to introduce autoip™ vm..."
      ]
     },
     "execution_count": 10,
     "metadata": {},
     "output_type": "execute_result"
    }
   ],
   "source": [
    "tw.tail()"
   ]
  },
  {
   "cell_type": "code",
   "execution_count": 11,
   "metadata": {},
   "outputs": [
    {
     "data": {
      "text/plain": [
       "(328932, 2)"
      ]
     },
     "execution_count": 11,
     "metadata": {},
     "output_type": "execute_result"
    }
   ],
   "source": [
    "tw.shape"
   ]
  },
  {
   "cell_type": "markdown",
   "metadata": {},
   "source": [
    "### Statistics: can be seen that number of tweets per user on the lower side"
   ]
  },
  {
   "cell_type": "code",
   "execution_count": 12,
   "metadata": {},
   "outputs": [
    {
     "data": {
      "text/plain": [
       "count    9297.000000\n",
       "mean       35.380445\n",
       "std        28.146449\n",
       "min         1.000000\n",
       "25%        18.000000\n",
       "50%        32.000000\n",
       "75%        38.000000\n",
       "max       284.000000\n",
       "Name: User, dtype: float64"
      ]
     },
     "execution_count": 12,
     "metadata": {},
     "output_type": "execute_result"
    }
   ],
   "source": [
    "cnt_user = tw['User'].value_counts()\n",
    "cnt_user.describe()"
   ]
  },
  {
   "cell_type": "code",
   "execution_count": 13,
   "metadata": {},
   "outputs": [],
   "source": [
    "X = tw.Tweet\n",
    "y = tw.User\n",
    "X_train, X_test, y_train, y_test = train_test_split(X, y, random_state=1)"
   ]
  },
  {
   "cell_type": "code",
   "execution_count": 14,
   "metadata": {},
   "outputs": [
    {
     "name": "stdout",
     "output_type": "stream",
     "text": [
      "Wall time: 0 ns\n"
     ]
    }
   ],
   "source": [
    "%%time\n",
    "lr = LogisticRegression()\n",
    "nb = MultinomialNB()\n",
    "svm = LinearSVC()\n",
    "from scipy.sparse import hstack\n",
    "\n",
    "def test_model(w_vect,c_vect, model):\n",
    "    w_vect.fit(pd.Series(tw['Tweet']))\n",
    "    c_vect.fit(pd.Series(tw['Tweet']))         \n",
    "    X_train_dtm_w = w_vect.transform(X_train)\n",
    "    X_train_dtm_c = c_vect.transform(X_train)\n",
    "    X_train_dtm = hstack([X_train_dtm_c, X_train_dtm_w])\n",
    "    \n",
    "    print('Features: ', X_train_dtm.shape[1])\n",
    "    print(f'Rows: {X_train_dtm.shape[0]}')\n",
    "    X_test_dtm_w = w_vect.transform(X_test)\n",
    "    X_test_dtm_c = c_vect.transform(X_test)\n",
    "    X_test_dtm = hstack([X_test_dtm_c, X_test_dtm_w])\n",
    "    \n",
    "    if model == 'LR':\n",
    "        lr.fit(X_train_dtm, y_train)\n",
    "        y_pred_class = lr.predict(X_test_dtm)\n",
    "        algorithm = 'Logistic Regression'\n",
    "    if model == 'MNB':\n",
    "        nb.fit(X_train_dtm, y_train)\n",
    "        y_pred_class = nb.predict(X_test_dtm)\n",
    "        algorithm = 'Multinomial Naive Bayes'\n",
    "    if model == 'SVC':\n",
    "        svm.fit(X_train_dtm, y_train)\n",
    "        y_pred_class = svm.predict(X_test_dtm)\n",
    "        algorithm = 'Linear SVC'\n",
    "        \n",
    "    print('Accuracy: ', metrics.accuracy_score(y_test, y_pred_class))\n",
    "    print(algorithm)"
   ]
  },
  {
   "cell_type": "code",
   "execution_count": 15,
   "metadata": {},
   "outputs": [],
   "source": [
    "word_vectorizer = CountVectorizer(stop_words = 'english', ngram_range = (1,2), min_df = 1, max_features = 15000)\n",
    "char_vectorizer = CountVectorizer(analyzer='char', stop_words='english', ngram_range=(2,4), max_features=50000)"
   ]
  },
  {
   "cell_type": "code",
   "execution_count": null,
   "metadata": {},
   "outputs": [
    {
     "name": "stdout",
     "output_type": "stream",
     "text": [
      "Features:  65000\n",
      "Rows: 246699\n"
     ]
    }
   ],
   "source": [
    "%%time\n",
    "test_model(word_vectorizer, char_vectorizer, 'LR')"
   ]
  },
  {
   "cell_type": "code",
   "execution_count": null,
   "metadata": {},
   "outputs": [],
   "source": [
    "def prepare_test_data(w_vect,c_vect):\n",
    "    file1 = \"data/test_tweets_unlabeled.txt\"\n",
    "    with open(file1, 'r') as data:\n",
    "        temp = [line for line in data]    \n",
    "    unlabel = pd.Series(temp)\n",
    "    unlabel_dtm_w = w_vect.transform(unlabel)\n",
    "    unlabel_dtm_c = c_vect.transform(unlabel)\n",
    "    unlabel_dtm = hstack([unlabel_dtm_c, unlabel_dtm_w])\n",
    "    return unlabel_dtm\n",
    "    \n",
    "def submission_file(data):\n",
    "    import csv\n",
    "    with open('predicted.csv', 'w') as writeFile:\n",
    "        writer = csv.writer(writeFile)\n",
    "        writer.writerow(['Id','Predicted'])\n",
    "        for count,predicted in enumerate(data):\n",
    "            writer.writerow([count+1,predicted])"
   ]
  },
  {
   "cell_type": "code",
   "execution_count": null,
   "metadata": {},
   "outputs": [],
   "source": [
    "unlabel_dtm = prepare_test_data(word_vectorizer, char_vectorizer) \n",
    "unlabel_pred = svm.predict(unlabel_dtm)\n",
    "submission_file(unlabel_pred)"
   ]
  },
  {
   "cell_type": "code",
   "execution_count": null,
   "metadata": {},
   "outputs": [],
   "source": [
    "model_filename = \"LR_model_cw_ngram.pkl\"\n",
    "joblib.dump(svm, model_filename)"
   ]
  },
  {
   "cell_type": "code",
   "execution_count": null,
   "metadata": {},
   "outputs": [],
   "source": []
  }
 ],
 "metadata": {
  "kernelspec": {
   "display_name": "Python 3",
   "language": "python",
   "name": "python3"
  },
  "language_info": {
   "codemirror_mode": {
    "name": "ipython",
    "version": 3
   },
   "file_extension": ".py",
   "mimetype": "text/x-python",
   "name": "python",
   "nbconvert_exporter": "python",
   "pygments_lexer": "ipython3",
   "version": "3.7.3"
  }
 },
 "nbformat": 4,
 "nbformat_minor": 2
}
