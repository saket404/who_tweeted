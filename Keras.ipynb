{
 "cells": [
  {
   "cell_type": "code",
   "execution_count": 49,
   "metadata": {},
   "outputs": [],
   "source": [
    "import itertools\n",
    "import os\n",
    "\n",
    "%matplotlib inline\n",
    "import matplotlib.pyplot as plt\n",
    "import numpy as np\n",
    "import pandas as pd\n",
    "import tensorflow as tf\n",
    "from sklearn.model_selection import train_test_split\n",
    "from sklearn.preprocessing import LabelBinarizer, LabelEncoder\n",
    "from sklearn.metrics import confusion_matrix\n",
    "\n",
    "from tensorflow import keras\n",
    "from keras.models import Sequential\n",
    "from keras.layers import Dense, Activation, Dropout\n",
    "from keras.preprocessing import text, sequence\n",
    "from keras import utils"
   ]
  },
  {
   "cell_type": "code",
   "execution_count": 50,
   "metadata": {},
   "outputs": [],
   "source": [
    "file = \"data/train_tweets.txt\"\n",
    "temp = []\n",
    "with open(file, 'r') as data:\n",
    "    for line in data:\n",
    "        row = []\n",
    "        line = line.replace('\\t',\" \")\n",
    "        elem = line.strip().split(\" \")\n",
    "        row.append(elem[0])\n",
    "        row.append(\" \".join(elem[1:]))\n",
    "        temp.append(row) "
   ]
  },
  {
   "cell_type": "code",
   "execution_count": 51,
   "metadata": {},
   "outputs": [],
   "source": [
    "tw = pd.DataFrame(temp,columns = [\"User\",\"Tweet\"])\n",
    "X_train, X_test, y_train, y_test = train_test_split(tw.Tweet, tw.User, random_state=0, test_size=0.3)"
   ]
  },
  {
   "cell_type": "code",
   "execution_count": 52,
   "metadata": {},
   "outputs": [],
   "source": [
    "max_words = 2000\n",
    "tokenize = text.Tokenizer(num_words=max_words, char_level=False)"
   ]
  },
  {
   "cell_type": "code",
   "execution_count": 53,
   "metadata": {},
   "outputs": [],
   "source": [
    "tokenize.fit_on_texts(pd.Series(tw['Tweet'])) # only fit on train\n",
    "x_train = tokenize.texts_to_matrix(X_train)\n",
    "x_test = tokenize.texts_to_matrix(X_test)"
   ]
  },
  {
   "cell_type": "code",
   "execution_count": 54,
   "metadata": {},
   "outputs": [],
   "source": [
    "encoder = LabelEncoder()\n",
    "encoder.fit(pd.Series(tw['User']))\n",
    "y_train = encoder.transform(y_train)\n",
    "y_test = encoder.transform(y_test)"
   ]
  },
  {
   "cell_type": "code",
   "execution_count": 55,
   "metadata": {},
   "outputs": [],
   "source": [
    "num_classes = np.max(y_train) + 1\n",
    "y_train = utils.to_categorical(y_train, num_classes)\n",
    "y_test = utils.to_categorical(y_test, num_classes)"
   ]
  },
  {
   "cell_type": "code",
   "execution_count": 56,
   "metadata": {},
   "outputs": [
    {
     "name": "stdout",
     "output_type": "stream",
     "text": [
      "x_train shape: (230252, 2000)\n",
      "x_test shape: (98680, 2000)\n",
      "y_train shape: (230252, 9297)\n",
      "y_test shape: (98680, 9297)\n"
     ]
    }
   ],
   "source": [
    "print('x_train shape:', x_train.shape)\n",
    "print('x_test shape:', x_test.shape)\n",
    "print('y_train shape:', y_train.shape)\n",
    "print('y_test shape:', y_test.shape)"
   ]
  },
  {
   "cell_type": "code",
   "execution_count": 66,
   "metadata": {},
   "outputs": [],
   "source": [
    "batch_size = 30\n",
    "epochs = 50"
   ]
  },
  {
   "cell_type": "code",
   "execution_count": 67,
   "metadata": {},
   "outputs": [],
   "source": [
    "# Build the model\n",
    "model = Sequential()\n",
    "model.add(Dense(512, input_shape=(max_words,)))\n",
    "model.add(Activation('relu'))\n",
    "model.add(Dropout(0.5))\n",
    "model.add(Dense(num_classes))\n",
    "model.add(Activation('softmax'))\n",
    "\n",
    "model.compile(loss='categorical_crossentropy',\n",
    "              optimizer='adam',\n",
    "              metrics=['accuracy'])"
   ]
  },
  {
   "cell_type": "code",
   "execution_count": 68,
   "metadata": {},
   "outputs": [
    {
     "name": "stdout",
     "output_type": "stream",
     "text": [
      "Train on 207226 samples, validate on 23026 samples\n",
      "Epoch 1/50\n",
      "207226/207226 [==============================] - 104s 500us/step - loss: 8.5083 - acc: 0.0188 - val_loss: 8.0440 - val_acc: 0.0422\n",
      "Epoch 2/50\n",
      "207226/207226 [==============================] - 88s 424us/step - loss: 7.4151 - acc: 0.0713 - val_loss: 7.3786 - val_acc: 0.0862\n",
      "Epoch 3/50\n",
      "207226/207226 [==============================] - 86s 416us/step - loss: 6.5938 - acc: 0.1173 - val_loss: 7.0475 - val_acc: 0.1085\n",
      "Epoch 4/50\n",
      "207226/207226 [==============================] - 89s 429us/step - loss: 5.9886 - acc: 0.1534 - val_loss: 6.8979 - val_acc: 0.1216\n",
      "Epoch 5/50\n",
      "207226/207226 [==============================] - 90s 435us/step - loss: 5.5270 - acc: 0.1868 - val_loss: 6.8431 - val_acc: 0.1309\n",
      "Epoch 6/50\n",
      "207226/207226 [==============================] - 89s 428us/step - loss: 5.1479 - acc: 0.2191 - val_loss: 6.8263 - val_acc: 0.1376\n",
      "Epoch 7/50\n",
      "207226/207226 [==============================] - 91s 438us/step - loss: 4.8215 - acc: 0.2492 - val_loss: 6.8368 - val_acc: 0.1410\n",
      "Epoch 8/50\n",
      "207226/207226 [==============================] - 88s 426us/step - loss: 4.5481 - acc: 0.2777 - val_loss: 6.8661 - val_acc: 0.1443\n",
      "Epoch 9/50\n",
      "207226/207226 [==============================] - 85s 411us/step - loss: 4.3090 - acc: 0.3015 - val_loss: 6.9053 - val_acc: 0.1457\n",
      "Epoch 10/50\n",
      "207226/207226 [==============================] - 84s 406us/step - loss: 4.0949 - acc: 0.3247 - val_loss: 6.9612 - val_acc: 0.1474\n",
      "Epoch 11/50\n",
      "207226/207226 [==============================] - 86s 416us/step - loss: 3.9006 - acc: 0.3452 - val_loss: 7.0144 - val_acc: 0.1490\n",
      "Epoch 12/50\n",
      "207226/207226 [==============================] - 85s 411us/step - loss: 3.7340 - acc: 0.3646 - val_loss: 7.0685 - val_acc: 0.1503\n",
      "Epoch 13/50\n",
      "207226/207226 [==============================] - 85s 411us/step - loss: 3.5810 - acc: 0.3835 - val_loss: 7.1317 - val_acc: 0.1497\n",
      "Epoch 14/50\n",
      "207226/207226 [==============================] - 87s 418us/step - loss: 3.4423 - acc: 0.3997 - val_loss: 7.1957 - val_acc: 0.1507\n",
      "Epoch 15/50\n",
      "207226/207226 [==============================] - 87s 421us/step - loss: 3.3168 - acc: 0.4144 - val_loss: 7.2655 - val_acc: 0.1524\n",
      "Epoch 16/50\n",
      "207226/207226 [==============================] - 85s 412us/step - loss: 3.2045 - acc: 0.4296 - val_loss: 7.3279 - val_acc: 0.1512\n",
      "Epoch 17/50\n",
      "207226/207226 [==============================] - 88s 423us/step - loss: 3.0926 - acc: 0.4423 - val_loss: 7.3952 - val_acc: 0.1513\n",
      "Epoch 18/50\n",
      "207226/207226 [==============================] - 88s 422us/step - loss: 3.0013 - acc: 0.4543 - val_loss: 7.4644 - val_acc: 0.1517\n",
      "Epoch 19/50\n",
      "207226/207226 [==============================] - 88s 423us/step - loss: 2.9140 - acc: 0.4648 - val_loss: 7.5265 - val_acc: 0.1523\n",
      "Epoch 20/50\n",
      "207226/207226 [==============================] - 87s 418us/step - loss: 2.8263 - acc: 0.4765 - val_loss: 7.5944 - val_acc: 0.1516\n",
      "Epoch 21/50\n",
      "207226/207226 [==============================] - 86s 416us/step - loss: 2.7548 - acc: 0.4865 - val_loss: 7.6576 - val_acc: 0.1511\n",
      "Epoch 22/50\n",
      "207226/207226 [==============================] - 85s 410us/step - loss: 2.6771 - acc: 0.4974 - val_loss: 7.7295 - val_acc: 0.1526\n",
      "Epoch 23/50\n",
      "207226/207226 [==============================] - 91s 437us/step - loss: 2.6137 - acc: 0.5043 - val_loss: 7.7865 - val_acc: 0.1523\n",
      "Epoch 24/50\n",
      "207226/207226 [==============================] - 88s 424us/step - loss: 2.5488 - acc: 0.5144 - val_loss: 7.8545 - val_acc: 0.1503\n",
      "Epoch 25/50\n",
      "207226/207226 [==============================] - 86s 417us/step - loss: 2.4899 - acc: 0.5218 - val_loss: 7.9038 - val_acc: 0.1520\n",
      "Epoch 26/50\n",
      "207226/207226 [==============================] - 87s 419us/step - loss: 2.4354 - acc: 0.5288 - val_loss: 7.9783 - val_acc: 0.1516\n",
      "Epoch 27/50\n",
      "207226/207226 [==============================] - 86s 413us/step - loss: 2.3871 - acc: 0.5361 - val_loss: 8.0336 - val_acc: 0.1517\n",
      "Epoch 28/50\n",
      "207226/207226 [==============================] - 86s 413us/step - loss: 2.3376 - acc: 0.5428 - val_loss: 8.0967 - val_acc: 0.1503\n",
      "Epoch 29/50\n",
      "207226/207226 [==============================] - 84s 405us/step - loss: 2.2965 - acc: 0.5485 - val_loss: 8.1408 - val_acc: 0.1503\n",
      "Epoch 30/50\n",
      "207226/207226 [==============================] - 84s 408us/step - loss: 2.2466 - acc: 0.5538 - val_loss: 8.1895 - val_acc: 0.1523\n",
      "Epoch 31/50\n",
      "207226/207226 [==============================] - 86s 415us/step - loss: 2.2057 - acc: 0.5612 - val_loss: 8.2482 - val_acc: 0.1510\n",
      "Epoch 32/50\n",
      "207226/207226 [==============================] - 86s 416us/step - loss: 2.1620 - acc: 0.5683 - val_loss: 8.2979 - val_acc: 0.1506\n",
      "Epoch 33/50\n",
      "207226/207226 [==============================] - 85s 412us/step - loss: 2.1299 - acc: 0.5731 - val_loss: 8.3448 - val_acc: 0.1509\n",
      "Epoch 34/50\n",
      "207226/207226 [==============================] - 86s 417us/step - loss: 2.0957 - acc: 0.5768 - val_loss: 8.4014 - val_acc: 0.1510\n",
      "Epoch 35/50\n",
      "207226/207226 [==============================] - 85s 410us/step - loss: 2.0580 - acc: 0.5842 - val_loss: 8.4585 - val_acc: 0.1504\n",
      "Epoch 36/50\n",
      "207226/207226 [==============================] - 85s 411us/step - loss: 2.0273 - acc: 0.5876 - val_loss: 8.5073 - val_acc: 0.1502\n",
      "Epoch 37/50\n",
      "207226/207226 [==============================] - 86s 413us/step - loss: 1.9948 - acc: 0.5938 - val_loss: 8.5504 - val_acc: 0.1505\n",
      "Epoch 38/50\n",
      "207226/207226 [==============================] - 86s 416us/step - loss: 1.9738 - acc: 0.5952 - val_loss: 8.6001 - val_acc: 0.1488\n",
      "Epoch 39/50\n",
      "207226/207226 [==============================] - 86s 413us/step - loss: 1.9420 - acc: 0.6006 - val_loss: 8.6486 - val_acc: 0.1502\n",
      "Epoch 40/50\n",
      "207226/207226 [==============================] - 87s 418us/step - loss: 1.9132 - acc: 0.6044 - val_loss: 8.6864 - val_acc: 0.1488\n",
      "Epoch 41/50\n",
      "207226/207226 [==============================] - 86s 417us/step - loss: 1.8902 - acc: 0.6084 - val_loss: 8.7317 - val_acc: 0.1488\n",
      "Epoch 42/50\n",
      "207226/207226 [==============================] - 86s 413us/step - loss: 1.8629 - acc: 0.6120 - val_loss: 8.7659 - val_acc: 0.1490\n",
      "Epoch 43/50\n",
      "207226/207226 [==============================] - 87s 418us/step - loss: 1.8371 - acc: 0.6168 - val_loss: 8.8105 - val_acc: 0.1496\n",
      "Epoch 44/50\n",
      "207226/207226 [==============================] - 86s 415us/step - loss: 1.8190 - acc: 0.6202 - val_loss: 8.8558 - val_acc: 0.1493\n",
      "Epoch 45/50\n",
      "207226/207226 [==============================] - 84s 406us/step - loss: 1.7923 - acc: 0.6233 - val_loss: 8.9003 - val_acc: 0.1494\n",
      "Epoch 46/50\n",
      "207226/207226 [==============================] - 86s 416us/step - loss: 1.7731 - acc: 0.6270 - val_loss: 8.9337 - val_acc: 0.1499\n",
      "Epoch 47/50\n",
      "207226/207226 [==============================] - 85s 412us/step - loss: 1.7534 - acc: 0.6300 - val_loss: 8.9736 - val_acc: 0.1491\n",
      "Epoch 48/50\n",
      "207226/207226 [==============================] - 87s 418us/step - loss: 1.7302 - acc: 0.6328 - val_loss: 9.0169 - val_acc: 0.1492\n",
      "Epoch 49/50\n",
      "207226/207226 [==============================] - 86s 414us/step - loss: 1.7082 - acc: 0.6378 - val_loss: 9.0516 - val_acc: 0.1487\n",
      "Epoch 50/50\n",
      "207226/207226 [==============================] - 87s 418us/step - loss: 1.6954 - acc: 0.6394 - val_loss: 9.0768 - val_acc: 0.1488\n"
     ]
    }
   ],
   "source": [
    "history = model.fit(x_train, y_train,\n",
    "                    batch_size=batch_size,\n",
    "                    epochs=epochs,\n",
    "                    verbose=1,\n",
    "                    validation_split=0.1)"
   ]
  },
  {
   "cell_type": "code",
   "execution_count": 69,
   "metadata": {},
   "outputs": [
    {
     "name": "stdout",
     "output_type": "stream",
     "text": [
      "dict_keys(['val_loss', 'val_acc', 'loss', 'acc'])\n"
     ]
    },
    {
     "data": {
      "image/png": "[encoded data removed]",
      "text/plain": [
       "<Figure size 432x288 with 1 Axes>"
      ]
     },
     "metadata": {
      "needs_background": "light"
     },
     "output_type": "display_data"
    },
    {
     "data": {
      "image/png": "[encoded data removed]",
      "text/plain": [
       "<Figure size 432x288 with 1 Axes>"
      ]
     },
     "metadata": {
      "needs_background": "light"
     },
     "output_type": "display_data"
    }
   ],
   "source": [
    "print(history.history.keys())\n",
    "# summarize history for accuracy\n",
    "plt.plot(history.history['acc'])\n",
    "plt.plot(history.history['val_acc'])\n",
    "plt.title('model accuracy')\n",
    "plt.ylabel('accuracy')\n",
    "plt.xlabel('epoch')\n",
    "plt.legend(['train', 'test'], loc='upper left')\n",
    "plt.show()\n",
    "\n",
    "# summarize history for loss\n",
    "plt.plot(history.history['loss'])\n",
    "plt.plot(history.history['val_loss'])\n",
    "plt.title('model loss')\n",
    "plt.ylabel('loss')\n",
    "plt.xlabel('epoch')\n",
    "plt.legend(['train', 'test'], loc='upper left')\n",
    "plt.show()"
   ]
  },
  {
   "cell_type": "code",
   "execution_count": 70,
   "metadata": {},
   "outputs": [
    {
     "name": "stdout",
     "output_type": "stream",
     "text": [
      "98680/98680 [==============================] - 18s 185us/step\n",
      "Test accuracy: [8.971971844293156, 0.15148966339347716]\n"
     ]
    }
   ],
   "source": [
    "score = model.evaluate(x_test, y_test,\n",
    "                       batch_size=batch_size, verbose=1)\n",
    "print('Test accuracy:', score)"
   ]
  },
  {
   "cell_type": "code",
   "execution_count": 72,
   "metadata": {},
   "outputs": [],
   "source": [
    "def prepare_test_data(tokenize):\n",
    "    file1 = \"data/test_tweets_unlabeled.txt\"\n",
    "    with open(file1, 'r') as data:\n",
    "        temp = [line for line in data]    \n",
    "    unlabel = pd.Series(temp)\n",
    "    unlabel_en = tokenize.texts_to_matrix(unlabel)\n",
    "    return unlabel_en\n",
    "    \n",
    "def submission_file(data):\n",
    "    import csv\n",
    "    with open('predicted.csv', 'w') as writeFile:\n",
    "        writer = csv.writer(writeFile)\n",
    "        writer.writerow(['Id','Predicted'])\n",
    "        for count,predicted in enumerate(data):\n",
    "            writer.writerow([count+1,predicted])"
   ]
  },
  {
   "cell_type": "code",
   "execution_count": 73,
   "metadata": {},
   "outputs": [],
   "source": [
    "test_unlabel = prepare_test_data(tokenize)"
   ]
  },
  {
   "cell_type": "code",
   "execution_count": 74,
   "metadata": {},
   "outputs": [],
   "source": [
    "predicted = model.predict_classes(test_unlabel)"
   ]
  },
  {
   "cell_type": "code",
   "execution_count": 79,
   "metadata": {},
   "outputs": [],
   "source": [
    "submission_file(predicted)"
   ]
  },
  {
   "cell_type": "code",
   "execution_count": null,
   "metadata": {},
   "outputs": [],
   "source": []
  }
 ],
 "metadata": {
  "kernelspec": {
   "display_name": "Python 3",
   "language": "python",
   "name": "python3"
  },
  "language_info": {
   "codemirror_mode": {
    "name": "ipython",
    "version": 3
   },
   "file_extension": ".py",
   "mimetype": "text/x-python",
   "name": "python",
   "nbconvert_exporter": "python",
   "pygments_lexer": "ipython3",
   "version": "3.7.3"
  }
 },
 "nbformat": 4,
 "nbformat_minor": 2
}
